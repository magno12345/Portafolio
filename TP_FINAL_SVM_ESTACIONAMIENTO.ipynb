{
  "nbformat": 4,
  "nbformat_minor": 0,
  "metadata": {
    "colab": {
      "provenance": [],
      "mount_file_id": "1DK4Gu2Bzjts9UIyaRhyVuB9pV1yB-Nn4",
      "authorship_tag": "ABX9TyOt+nd10fBYG0XGdXzxzRFW",
      "include_colab_link": true
    },
    "kernelspec": {
      "name": "python3",
      "display_name": "Python 3"
    },
    "language_info": {
      "name": "python"
    }
  },
  "cells": [
    {
      "cell_type": "markdown",
      "metadata": {
        "id": "view-in-github",
        "colab_type": "text"
      },
      "source": [
        "<a href=\"https://colab.research.google.com/github/magno12345/UPSO/blob/main/TP_FINAL_SVM_ESTACIONAMIENTO.ipynb\" target=\"_parent\"><img src=\"https://colab.research.google.com/assets/colab-badge.svg\" alt=\"Open In Colab\"/></a>"
      ]
    },
    {
      "cell_type": "markdown",
      "source": [
        "##Enunciado"
      ],
      "metadata": {
        "id": "NsrgxgHrV3ut"
      }
    },
    {
      "cell_type": "markdown",
      "source": [
        "Un supermercado quiere diseñar un sistema para indicarle a sus clientes que tan lleno está\n",
        "el estacionamiento en su página web. El programador al que contrató le pidió que colocara\n",
        "una cámara que tome fotos del estacionamiento regularmente, y al cabo de un tiempo se\n",
        "formuló un dataset, con 300 imágenes del estacionamiento bastante lleno, y otras 300 del\n",
        "estacionamiento bastante vacío, con distintas condiciones de clima y hora del día."
      ],
      "metadata": {
        "id": "WKU26MNLVs3P"
      }
    },
    {
      "cell_type": "code",
      "execution_count": 1,
      "metadata": {
        "id": "xDKVho08c-R7"
      },
      "outputs": [],
      "source": [
        "import os\n",
        "import numpy as np\n",
        "import cv2\n",
        "import matplotlib.pyplot as plt"
      ]
    },
    {
      "cell_type": "code",
      "source": [
        "dir = \"/content/drive/MyDrive/SVM/autos_todos\"\n",
        "\n",
        "clases=[\"muchosautos\",\"pocosautos\"]\n",
        "\n",
        "data =[]\n",
        "\n",
        "for clase in clases:\n",
        "  path = os.path.join(dir,clase)\n",
        "  etiqueta = clases.index(clase)\n",
        "\n",
        "  for img in os.listdir(path):\n",
        "    imgpath = os.path.join(path,img)\n",
        "    car_img = cv2.imread(imgpath,0)\n",
        "    car_img = cv2.resize(car_img,(50,50))\n",
        "    image = np.array(car_img).flatten()\n",
        "\n",
        "    data.append([image,etiqueta])\n",
        "\n",
        "# Imprimo cómo quedaron conformadas las dos clases\n",
        "for i, clase in enumerate(clases):\n",
        "    count = sum(1 for label in data if label[1] == i)\n",
        "    print(f\"Clase {clase}: {count} ejemplos\")"
      ],
      "metadata": {
        "id": "uRskZHL5d2zg",
        "colab": {
          "base_uri": "https://localhost:8080/"
        },
        "outputId": "42d5d031-7361-42d8-f71e-a5546a5a000e"
      },
      "execution_count": 27,
      "outputs": [
        {
          "output_type": "stream",
          "name": "stdout",
          "text": [
            "Clase muchosautos: 300 ejemplos\n",
            "Clase pocosautos: 309 ejemplos\n"
          ]
        }
      ]
    },
    {
      "cell_type": "code",
      "source": [
        "import pickle\n",
        "\n",
        "pick_in = open(\"/content/drive/MyDrive/DATASET ESTACIONAMIENTO/dataset_estacionamiento.pickle\",\"rb\")\n",
        "data = pickle.load(pick_in)\n",
        "\n",
        "features = []\n",
        "labels = []\n",
        "\n",
        "for feature,label in data:\n",
        "  features.append(feature)\n",
        "  labels.append(label)\n",
        "\n",
        "from sklearn.model_selection import train_test_split\n",
        "\n",
        "x_train,x_test,y_train,y_test = train_test_split(features,labels,test_size = 0.3,shuffle=True)\n",
        "\n",
        "from sklearn.svm import SVC\n",
        "\n",
        "clf = SVC(C=1,kernel=\"linear\",gamma=\"auto\")\n",
        "clf.fit(x_train,y_train)\n",
        "\n",
        "prediccion = clf.predict(x_test)\n",
        "puntaje = clf.score(x_test,y_test)\n",
        "clases=[\"Estacionamiento Lleno\",\"Estacionamiento Vacio\"]\n",
        "\n",
        "\n",
        "print(\"Puntaje :\",puntaje)\n",
        "print(\"Prediccion es:\",clases[prediccion[0]])\n",
        "\n",
        "\n",
        "park = x_test[0].reshape(50,50)\n",
        "plt.imshow(park,cmap=\"gray\")\n",
        "plt.show()"
      ],
      "metadata": {
        "colab": {
          "base_uri": "https://localhost:8080/",
          "height": 467
        },
        "id": "yuZ8XA9ea1xu",
        "outputId": "b787c1bc-d0d5-4031-bf11-4d16b22bd8ba"
      },
      "execution_count": 28,
      "outputs": [
        {
          "output_type": "stream",
          "name": "stdout",
          "text": [
            "Puntaje : 0.9836065573770492\n",
            "Prediccion es: Estacionamiento Vacio\n"
          ]
        },
        {
          "output_type": "display_data",
          "data": {
            "text/plain": [
              "<Figure size 640x480 with 1 Axes>"
            ],
            "image/png": "[encoded data removed]"
          },
          "metadata": {}
        }
      ]
    },
    {
      "cell_type": "code",
      "source": [
        "from sklearn.metrics import accuracy_score\n",
        "kernels = ['linear', 'rbf', 'poly']\n",
        "\n",
        "for kernel in kernels:\n",
        "\n",
        "    model = SVC(kernel=kernel,C=10,gamma=1)\n",
        "    model.fit(x_train, y_train)\n",
        "    pred = model.predict(x_test)\n",
        "    print(\"Accuracy using {}:\".format(kernel), accuracy_score(pred, y_test))"
      ],
      "metadata": {
        "colab": {
          "base_uri": "https://localhost:8080/"
        },
        "id": "5UBOMyv7PNRm",
        "outputId": "c9afa269-b3a0-4e12-a93e-f7c39baf89fe"
      },
      "execution_count": 16,
      "outputs": [
        {
          "output_type": "stream",
          "name": "stdout",
          "text": [
            "Accuracy using linear: 0.9890710382513661\n",
            "Accuracy using rbf: 0.46994535519125685\n",
            "Accuracy using poly: 0.9890710382513661\n"
          ]
        }
      ]
    },
    {
      "cell_type": "markdown",
      "source": [
        "busco los mejores hiperparametros"
      ],
      "metadata": {
        "id": "woKUL-b6QjiV"
      }
    },
    {
      "cell_type": "code",
      "source": [
        "from sklearn.model_selection import RandomizedSearchCV\n",
        "from sklearn.model_selection import GridSearchCV\n",
        "\n",
        "parameters = {'kernel': [ 'rbf',\"poly\"], 'C': [0.1, 1,2,3,4,10], 'gamma': [0.1, 1,2,3,4,10]}\n",
        "svc = SVC()\n",
        "clf1 = RandomizedSearchCV(svc, parameters, scoring='f1_macro')\n",
        "clf1.fit(x_train, y_train)\n",
        "\n",
        "print(\"Mejores parámetros:\", clf1.best_params_)\n",
        "\n",
        "print(\"Mejor score:\", clf1.best_score_)"
      ],
      "metadata": {
        "colab": {
          "base_uri": "https://localhost:8080/"
        },
        "id": "AmsJuPwnQHWN",
        "outputId": "f6a0a621-b2c9-42a7-f669-ce91a9fa3041"
      },
      "execution_count": 18,
      "outputs": [
        {
          "output_type": "stream",
          "name": "stdout",
          "text": [
            "Mejores parámetros: {'kernel': 'poly', 'gamma': 1, 'C': 10}\n",
            "Mejor score: 0.9717131911860223\n"
          ]
        }
      ]
    },
    {
      "cell_type": "code",
      "source": [
        "#matriz de confusion de SVM\n",
        "from sklearn.metrics import confusion_matrix\n",
        "import seaborn as sns\n",
        "y_pred = model.predict(x_test)\n",
        "c = confusion_matrix(y_test,y_pred)\n",
        "\n",
        "\n",
        "def matriz_confusion(matrix,nombre_model=\"\"):\n",
        "    # Convierte la matriz de confusión a una lista de listas de cadenas\n",
        "    confusion_matrix_str = [[str(value) for value in row] for row in matrix]\n",
        "\n",
        "    # Crea un gráfico de matriz de confusión con Seaborn\n",
        "    plt.figure(figsize=(4, 3))\n",
        "    sns.heatmap(matrix, annot=True, fmt='g', linewidths=0.5, annot_kws={\"size\": 14}, xticklabels=['muchos autos 0', 'pocos autos 1'], yticklabels=['muchos autos 0', 'pocos autos 1'])\n",
        "    plt.xlabel('Predicciones')\n",
        "    plt.ylabel('Valores reales')\n",
        "    plt.title(f'Matriz de Confusión de {nombre_model}')\n",
        "    plt.show()\n",
        "\n",
        "matriz_confusion(c,\"SVM\")"
      ],
      "metadata": {
        "colab": {
          "base_uri": "https://localhost:8080/",
          "height": 333
        },
        "id": "1in1ZpiESXLD",
        "outputId": "bc667fef-c15b-4a28-f439-972cd8c809e5"
      },
      "execution_count": 26,
      "outputs": [
        {
          "output_type": "display_data",
          "data": {
            "text/plain": [
              "<Figure size 400x300 with 2 Axes>"
            ],
            "image/png": "[encoded data removed]"
          },
          "metadata": {}
        }
      ]
    },
    {
      "cell_type": "code",
      "source": [
        "# Importamos la función de entrenamiento y validación cruzada\n",
        "from sklearn.model_selection import cross_val_score\n",
        "nScores = cross_val_score(clf, features, labels, cv=10)\n",
        "# Nos devuelve un array de tipo Numpy. Podemos usar el método mean para obtener la media de los valores devueltos\n",
        "nScores.mean()"
      ],
      "metadata": {
        "colab": {
          "base_uri": "https://localhost:8080/"
        },
        "id": "VONqNuplma8-",
        "outputId": "21d6068a-7067-4add-f712-c38583300184"
      },
      "execution_count": 14,
      "outputs": [
        {
          "output_type": "execute_result",
          "data": {
            "text/plain": [
              "0.9390983606557377"
            ]
          },
          "metadata": {},
          "execution_count": 14
        }
      ]
    }
  ]
}