{
  "nbformat": 4,
  "nbformat_minor": 0,
  "metadata": {
    "colab": {
      "provenance": [],
      "mount_file_id": "1DK4Gu2Bzjts9UIyaRhyVuB9pV1yB-Nn4",
      "authorship_tag": "ABX9TyPBzrEw99t0g6eEnDAffN+2",
      "include_colab_link": true
    },
    "kernelspec": {
      "name": "python3",
      "display_name": "Python 3"
    },
    "language_info": {
      "name": "python"
    }
  },
  "cells": [
    {
      "cell_type": "markdown",
      "metadata": {
        "id": "view-in-github",
        "colab_type": "text"
      },
      "source": [
        "<a href=\"https://colab.research.google.com/github/magno12345/UPSO/blob/main/TP_FINAL_SVM_ESTACIONAMIENTO.ipynb\" target=\"_parent\"><img src=\"https://colab.research.google.com/assets/colab-badge.svg\" alt=\"Open In Colab\"/></a>"
      ]
    },
    {
      "cell_type": "markdown",
      "source": [
        "##Enunciado"
      ],
      "metadata": {
        "id": "NsrgxgHrV3ut"
      }
    },
    {
      "cell_type": "markdown",
      "source": [
        "Un supermercado quiere diseñar un sistema para indicarle a sus clientes que tan lleno está\n",
        "el estacionamiento en su página web. El programador al que contrató le pidió que colocara\n",
        "una cámara que tome fotos del estacionamiento regularmente, y al cabo de un tiempo se\n",
        "formuló un dataset, con 300 imágenes del estacionamiento bastante lleno, y otras 300 del\n",
        "estacionamiento bastante vacío, con distintas condiciones de clima y hora del día."
      ],
      "metadata": {
        "id": "WKU26MNLVs3P"
      }
    },
    {
      "cell_type": "markdown",
      "source": [
        "dataset:[carpetas de imagenes](https://drive.google.com/drive/folders/1RG-ORf8ulHWy5XuicyetXwyrrmxrEW7a?usp=drive_link)"
      ],
      "metadata": {
        "id": "mkDgP24eoVQw"
      }
    },
    {
      "cell_type": "code",
      "execution_count": 2,
      "metadata": {
        "id": "xDKVho08c-R7"
      },
      "outputs": [],
      "source": [
        "import os\n",
        "import numpy as np\n",
        "import cv2\n",
        "import matplotlib.pyplot as plt"
      ]
    },
    {
      "cell_type": "markdown",
      "source": [
        "Cargo las imagenes y les agrego etiquetas en el ciclo for."
      ],
      "metadata": {
        "id": "sk52UbEirELm"
      }
    },
    {
      "cell_type": "code",
      "source": [
        "dir = \"/content/drive/MyDrive/SVM/autos_todos\"\n",
        "\n",
        "clases=[\"muchosautos\",\"pocosautos\"]\n",
        "\n",
        "data =[]\n",
        "\n",
        "for clase in clases:\n",
        "  path = os.path.join(dir,clase)\n",
        "  etiqueta = clases.index(clase)\n",
        "\n",
        "  for img in os.listdir(path):\n",
        "    imgpath = os.path.join(path,img)\n",
        "    car_img = cv2.imread(imgpath,0)\n",
        "    car_img = cv2.resize(car_img,(50,50))\n",
        "    image = np.array(car_img).flatten()\n",
        "\n",
        "    data.append([image,etiqueta])\n",
        "\n",
        "# Imprimo cómo quedaron conformadas las dos clases\n",
        "for i, clase in enumerate(clases):\n",
        "    count = sum(1 for label in data if label[1] == i)\n",
        "    print(f\"Clase {clase}: {count} ejemplos\")"
      ],
      "metadata": {
        "id": "uRskZHL5d2zg",
        "colab": {
          "base_uri": "https://localhost:8080/"
        },
        "outputId": "c6faa1c1-a3cc-40c4-e3bd-410aedfd024b"
      },
      "execution_count": 3,
      "outputs": [
        {
          "output_type": "stream",
          "name": "stdout",
          "text": [
            "Clase muchosautos: 300 ejemplos\n",
            "Clase pocosautos: 309 ejemplos\n"
          ]
        }
      ]
    },
    {
      "cell_type": "markdown",
      "source": [
        "Las imagenes la paso a escala de grises para facilitar el procesamiento y el rendimiento computacional ya que reduzco las imagenes a un solo canal de color ,las imágenes en color suelen tener tres canales (rojo, verde y azul en el modelo RGB), lo que aumenta la dimensionalidad de los datos."
      ],
      "metadata": {
        "id": "yhJWhbR8pQRQ"
      }
    },
    {
      "cell_type": "code",
      "source": [
        "import pickle\n",
        "\n",
        "pick_in = open(\"/content/drive/MyDrive/DATASET ESTACIONAMIENTO/dataset_estacionamiento.pickle\",\"rb\")\n",
        "data = pickle.load(pick_in)\n",
        "\n",
        "features = []\n",
        "labels = []\n",
        "\n",
        "for feature,label in data:\n",
        "  features.append(feature)\n",
        "  labels.append(label)\n",
        "\n",
        "from sklearn.model_selection import train_test_split\n",
        "\n",
        "x_train,x_test,y_train,y_test = train_test_split(features,labels,test_size = 0.3,shuffle=True)\n",
        "\n",
        "from sklearn.svm import SVC\n",
        "\n",
        "clf = SVC(C=1,kernel=\"linear\",gamma=\"auto\")\n",
        "clf.fit(x_train,y_train)\n",
        "\n",
        "prediccion = clf.predict(x_test)\n",
        "puntaje = clf.score(x_test,y_test)\n",
        "clases=[\"Estacionamiento Lleno\",\"Estacionamiento Vacio\"]\n",
        "\n",
        "\n",
        "print(\"Puntaje :\",puntaje)\n",
        "print(\"Prediccion es:\",clases[prediccion[0]])\n",
        "\n",
        "\n",
        "park = x_test[0].reshape(50,50)\n",
        "plt.imshow(park,cmap=\"gray\")\n",
        "plt.show()"
      ],
      "metadata": {
        "colab": {
          "base_uri": "https://localhost:8080/",
          "height": 467
        },
        "id": "yuZ8XA9ea1xu",
        "outputId": "c22a59e6-7380-45d4-b14a-bbe08b85bbe8"
      },
      "execution_count": 11,
      "outputs": [
        {
          "output_type": "stream",
          "name": "stdout",
          "text": [
            "Puntaje : 0.9781420765027322\n",
            "Prediccion es: Estacionamiento Lleno\n"
          ]
        },
        {
          "output_type": "display_data",
          "data": {
            "text/plain": [
              "<Figure size 640x480 with 1 Axes>"
            ],
            "image/png": "[encoded data removed]"
          },
          "metadata": {}
        }
      ]
    },
    {
      "cell_type": "markdown",
      "source": [
        "busco el mejor kernel"
      ],
      "metadata": {
        "id": "gYhg9UPTp8Vt"
      }
    },
    {
      "cell_type": "code",
      "source": [
        "from sklearn.metrics import accuracy_score\n",
        "kernels = ['linear', 'rbf', 'poly']\n",
        "\n",
        "for kernel in kernels:\n",
        "\n",
        "    model = SVC(kernel=kernel,C=10,gamma=1)\n",
        "    model.fit(x_train, y_train)\n",
        "    pred = model.predict(x_test)\n",
        "    print(\"Accuracy using {}:\".format(kernel), accuracy_score(pred, y_test))"
      ],
      "metadata": {
        "colab": {
          "base_uri": "https://localhost:8080/"
        },
        "id": "5UBOMyv7PNRm",
        "outputId": "82972261-1331-48b2-979f-47a42830613c"
      },
      "execution_count": 5,
      "outputs": [
        {
          "output_type": "stream",
          "name": "stdout",
          "text": [
            "Accuracy using linear: 0.9726775956284153\n",
            "Accuracy using rbf: 0.5081967213114754\n",
            "Accuracy using poly: 0.9781420765027322\n"
          ]
        }
      ]
    },
    {
      "cell_type": "markdown",
      "source": [
        "busco los mejores hiperparametros"
      ],
      "metadata": {
        "id": "woKUL-b6QjiV"
      }
    },
    {
      "cell_type": "code",
      "source": [
        "from sklearn.model_selection import RandomizedSearchCV\n",
        "from sklearn.model_selection import GridSearchCV\n",
        "\n",
        "parameters = {'kernel': [ 'rbf',\"poly\"], 'C': [0.1, 1,2,3,4,10], 'gamma': [0.1, 1,2,3,4,10]}\n",
        "svc = SVC()\n",
        "clf1 = RandomizedSearchCV(svc, parameters, scoring='f1_macro')\n",
        "clf1.fit(x_train, y_train)\n",
        "\n",
        "print(\"Mejores parámetros:\", clf1.best_params_)\n",
        "\n",
        "print(\"Mejor score:\", clf1.best_score_)"
      ],
      "metadata": {
        "colab": {
          "base_uri": "https://localhost:8080/"
        },
        "id": "AmsJuPwnQHWN",
        "outputId": "806f0f3a-ca50-4a2f-b04d-d506217ab12b"
      },
      "execution_count": 6,
      "outputs": [
        {
          "output_type": "stream",
          "name": "stdout",
          "text": [
            "Mejores parámetros: {'kernel': 'poly', 'gamma': 0.1, 'C': 0.1}\n",
            "Mejor score: 0.9788111393683447\n"
          ]
        }
      ]
    },
    {
      "cell_type": "markdown",
      "source": [
        "Matriz de confusion."
      ],
      "metadata": {
        "id": "L2p4wBmPqs0O"
      }
    },
    {
      "cell_type": "code",
      "source": [
        "#matriz de confusion de SVM\n",
        "from sklearn.metrics import confusion_matrix\n",
        "import seaborn as sns\n",
        "y_pred = model.predict(x_test)\n",
        "c = confusion_matrix(y_test,y_pred)\n",
        "\n",
        "\n",
        "def matriz_confusion(matrix,nombre_model=\"\"):\n",
        "    # Convierte la matriz de confusión a una lista de listas de cadenas\n",
        "    confusion_matrix_str = [[str(value) for value in row] for row in matrix]\n",
        "\n",
        "    # Crea un gráfico de matriz de confusión con Seaborn\n",
        "    plt.figure(figsize=(4, 3))\n",
        "    sns.heatmap(matrix, annot=True, fmt='g', linewidths=0.5, annot_kws={\"size\": 14}, xticklabels=['muchos autos 0', 'pocos autos 1'], yticklabels=['muchos autos 0', 'pocos autos 1'])\n",
        "    plt.xlabel('Predicciones')\n",
        "    plt.ylabel('Valores reales')\n",
        "    plt.title(f'Matriz de Confusión de {nombre_model}')\n",
        "    plt.show()\n",
        "\n",
        "matriz_confusion(c,\"SVM\")"
      ],
      "metadata": {
        "colab": {
          "base_uri": "https://localhost:8080/",
          "height": 333
        },
        "id": "1in1ZpiESXLD",
        "outputId": "51075b6f-6dae-4d5b-d3ff-f911729a6446"
      },
      "execution_count": 7,
      "outputs": [
        {
          "output_type": "display_data",
          "data": {
            "text/plain": [
              "<Figure size 400x300 with 2 Axes>"
            ],
            "image/png": "[encoded data removed]"
          },
          "metadata": {}
        }
      ]
    },
    {
      "cell_type": "markdown",
      "source": [
        "Validacion cruzada"
      ],
      "metadata": {
        "id": "1f7WBwPIqDgs"
      }
    },
    {
      "cell_type": "code",
      "source": [
        "# Importamos la función de entrenamiento y validación cruzada\n",
        "from sklearn.model_selection import cross_val_score\n",
        "\n",
        "# Realizamos validación cruzada con 10 folds\n",
        "nScores = cross_val_score(clf, features, labels, cv=10)\n",
        "\n",
        "# Calculamos la media de los puntajes de validación cruzada\n",
        "mean_score = nScores.mean()\n",
        "print(f'Media de puntajes de validación cruzada: {mean_score}')\n"
      ],
      "metadata": {
        "colab": {
          "base_uri": "https://localhost:8080/"
        },
        "id": "VONqNuplma8-",
        "outputId": "c9d38bb4-8be1-4833-ac46-a567829adbe5"
      },
      "execution_count": 8,
      "outputs": [
        {
          "output_type": "stream",
          "name": "stdout",
          "text": [
            "Media de puntajes de validación cruzada: 0.9390983606557377\n"
          ]
        }
      ]
    }
  ]
}